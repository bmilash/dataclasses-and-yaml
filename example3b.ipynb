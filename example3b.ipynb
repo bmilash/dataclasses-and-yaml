{
 "cells": [
  {
   "cell_type": "markdown",
   "id": "5ad1649d-3ba0-4c73-bb57-23866e4da5e9",
   "metadata": {
    "tags": []
   },
   "source": [
    "# Example 3 (continued) - List of data class objects\n",
    "\n",
    "Can YAML handle a list of objects from a data class?"
   ]
  },
  {
   "cell_type": "code",
   "execution_count": null,
   "id": "af393227-1ad7-483a-9053-70215098c065",
   "metadata": {},
   "outputs": [],
   "source": [
    "import yaml"
   ]
  },
  {
   "cell_type": "code",
   "execution_count": null,
   "id": "9d9cc3b3-7772-4a8a-bdf0-02c253cbc7be",
   "metadata": {},
   "outputs": [],
   "source": [
    "# Read the list back in from the YAML file.\n",
    "copy_of_cities = yaml.load( open(\"cities.yaml\",\"r\"), Loader=yaml.Loader )"
   ]
  },
  {
   "cell_type": "code",
   "execution_count": null,
   "id": "1148dc1c-c905-4432-b974-f933bd42a8c9",
   "metadata": {},
   "outputs": [],
   "source": [
    "print(\"Copy of list of RMACC cities:\")\n",
    "for city in copy_of_cities:\n",
    "    print(city)"
   ]
  },
  {
   "cell_type": "code",
   "execution_count": null,
   "id": "6bd1beed-17f5-4b2d-86f3-7c13249f2c13",
   "metadata": {},
   "outputs": [],
   "source": []
  }
 ],
 "metadata": {
  "kernelspec": {
   "display_name": "Python 3 (ipykernel)",
   "language": "python",
   "name": "python3"
  },
  "language_info": {
   "codemirror_mode": {
    "name": "ipython",
    "version": 3
   },
   "file_extension": ".py",
   "mimetype": "text/x-python",
   "name": "python",
   "nbconvert_exporter": "python",
   "pygments_lexer": "ipython3",
   "version": "3.9.7"
  }
 },
 "nbformat": 4,
 "nbformat_minor": 5
}
