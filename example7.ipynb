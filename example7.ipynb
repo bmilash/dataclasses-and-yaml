{
 "cells": [
  {
   "cell_type": "markdown",
   "id": "0156e8b3-4cec-47d2-b8d5-739ac6164384",
   "metadata": {},
   "source": [
    "# Example 7 - Validation\n",
    "\n",
    "Data classes were not designed with extensive validation in mind. However, we can do some validation in the \\_\\_post\\_init\\_\\_ method:"
   ]
  },
  {
   "cell_type": "code",
   "execution_count": 25,
   "id": "e2bfc525-5efd-4c16-bc70-e6a558891354",
   "metadata": {},
   "outputs": [],
   "source": [
    "from dataclasses import dataclass\n",
    "import yaml"
   ]
  },
  {
   "cell_type": "code",
   "execution_count": null,
   "id": "78f12b5e-2606-4d14-8994-bdc16c7d504f",
   "metadata": {},
   "outputs": [],
   "source": [
    "@dataclass \n",
    "class City:\n",
    "    name: str\n",
    "    latitude: float\n",
    "    longitude: float\n",
    "    \n",
    "    def __post_init__(self):\n",
    "        \"Do some validation.\"\n",
    "        assert self.name is not None and len(self.name) > 0, \"Name must be a non-empty string.\"\n",
    "        assert self.latitude <= 90.0 and self.latitude >= -90.0, \"Latitude must fall in the range -90.0 to 90.0\"\n",
    "        assert self.longitude <= 180.0 and self.longitude >= -180.0, \"Longitude must fall in the range -180.0 to 180.0\"      "
   ]
  },
  {
   "cell_type": "markdown",
   "id": "267c1923-1926-4099-8ff5-e8e57d5989b2",
   "metadata": {},
   "source": [
    "\\_\\_post\\_init\\_\\_ is called by the \\_\\_init\\_\\_ method of data class objects."
   ]
  },
  {
   "cell_type": "code",
   "execution_count": null,
   "id": "3ac0752f-c94f-470d-badf-22f81ec2bcb2",
   "metadata": {},
   "outputs": [],
   "source": [
    "c = City(\"\", latitude=40.0, longitude=-110)"
   ]
  },
  {
   "cell_type": "code",
   "execution_count": null,
   "id": "f770d007-46e1-402c-a576-c5a920b084ca",
   "metadata": {},
   "outputs": [],
   "source": [
    "c = City(\"Denver\", latitude=140.0, longitude=-110)"
   ]
  },
  {
   "cell_type": "code",
   "execution_count": null,
   "id": "64afa585-acd2-4ccc-a249-7b249071c3c1",
   "metadata": {},
   "outputs": [],
   "source": [
    "c = City(\"Denver\", latitude=40.0, longitude=-210)"
   ]
  },
  {
   "cell_type": "markdown",
   "id": "b67c275c-41cd-416f-b645-14c2669f0b8c",
   "metadata": {},
   "source": [
    "This method has some limitations however:"
   ]
  },
  {
   "cell_type": "code",
   "execution_count": null,
   "id": "2d0c9380-cfb2-45a6-a108-d5c4d88fec14",
   "metadata": {},
   "outputs": [],
   "source": [
    "broken_city_object = yaml.load( open(\"broken_city_object.yaml\",\"r\"), Loader=yaml.Loader )\n",
    "broken_city_object"
   ]
  },
  {
   "cell_type": "code",
   "execution_count": null,
   "id": "d2862c28-df95-41c6-907b-f3dea408de54",
   "metadata": {},
   "outputs": [],
   "source": []
  }
 ],
 "metadata": {
  "kernelspec": {
   "display_name": "Python 3 (ipykernel)",
   "language": "python",
   "name": "python3"
  },
  "language_info": {
   "codemirror_mode": {
    "name": "ipython",
    "version": 3
   },
   "file_extension": ".py",
   "mimetype": "text/x-python",
   "name": "python",
   "nbconvert_exporter": "python",
   "pygments_lexer": "ipython3",
   "version": "3.9.7"
  }
 },
 "nbformat": 4,
 "nbformat_minor": 5
}
