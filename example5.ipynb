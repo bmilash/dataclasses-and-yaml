{
 "cells": [
  {
   "cell_type": "markdown",
   "id": "a8bcc983-7b50-46d9-a5f8-2ac8544b1caa",
   "metadata": {},
   "source": [
    "# Example 5 - Recursive classes\n",
    "\n",
    "Can we nest other objects of the same class? Lets create a binary search tree where each node of the tree has left and right subnodes."
   ]
  },
  {
   "cell_type": "code",
   "execution_count": null,
   "id": "5490417f-fec9-477b-b380-087e327254cd",
   "metadata": {},
   "outputs": [],
   "source": [
    "from dataclasses import dataclass\n",
    "import yaml"
   ]
  },
  {
   "cell_type": "code",
   "execution_count": null,
   "id": "ff8fe049-bd5d-473f-bacb-8dfcf8c35ed3",
   "metadata": {},
   "outputs": [],
   "source": [
    "@dataclass\n",
    "class Node:\n",
    "    \"Node of a binary tree of strings.\"\n",
    "    value: str\n",
    "    left: 'Node'=None\n",
    "    right: 'Node'=None\n",
    "    # Notice that the type name of the recursively nested object is in quotes. \n",
    "    # This is necessary because at this point in the code the Node class has not \n",
    "    # yet been defined. This is called a forward reference - a reference to a \n",
    "    # type that has not yet been defined.\n",
    "    \n",
    "    def display(self):\n",
    "        \"\"\"\n",
    "        Executes an in-order traversal of tree, printing the\n",
    "        values in order as it goes.\n",
    "        \"\"\"\n",
    "        if self.left is not None:\n",
    "            self.left.display()\n",
    "        print(self.value)\n",
    "        if self.right is not None:\n",
    "            self.right.display()\n",
    "    "
   ]
  },
  {
   "cell_type": "code",
   "execution_count": null,
   "id": "f6141af4-0e52-434c-b79b-4ca4fcd8a9c5",
   "metadata": {},
   "outputs": [],
   "source": [
    "# Lets create a binary search tree of fruits:\n",
    "binary_fruit_tree = Node( \"dragonfuit\",\n",
    "    left = Node( \"banana\",\n",
    "        left=Node( \"apple\" ),\n",
    "        right=Node(\"cherry\")),\n",
    "    right=Node(\"mango\",\n",
    "        left=Node(\"grape\")))"
   ]
  },
  {
   "cell_type": "code",
   "execution_count": null,
   "id": "44b39596-6e1d-460f-b048-67d9aacaed53",
   "metadata": {},
   "outputs": [],
   "source": [
    "# Write the binary tree of fruits to a file.\n",
    "yaml.dump( binary_fruit_tree, open(\"fruit.yaml\",\"w\") )"
   ]
  },
  {
   "cell_type": "code",
   "execution_count": null,
   "id": "030fbd06-6dc7-45fc-baeb-bd58cf16f56e",
   "metadata": {},
   "outputs": [],
   "source": [
    "# Read the tree back in and print it.\n",
    "copy_of_tree = yaml.load( open(\"fruit.yaml\",\"r\"), Loader=yaml.Loader )\n",
    "copy_of_tree.display()"
   ]
  },
  {
   "cell_type": "code",
   "execution_count": null,
   "id": "582f34d6-f91b-4db6-bf50-0a698bc9a7e9",
   "metadata": {},
   "outputs": [],
   "source": []
  }
 ],
 "metadata": {
  "kernelspec": {
   "display_name": "Python 3 (ipykernel)",
   "language": "python",
   "name": "python3"
  },
  "language_info": {
   "codemirror_mode": {
    "name": "ipython",
    "version": 3
   },
   "file_extension": ".py",
   "mimetype": "text/x-python",
   "name": "python",
   "nbconvert_exporter": "python",
   "pygments_lexer": "ipython3",
   "version": "3.9.7"
  }
 },
 "nbformat": 4,
 "nbformat_minor": 5
}
