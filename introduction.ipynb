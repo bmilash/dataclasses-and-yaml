{
 "cells": [
  {
   "cell_type": "markdown",
   "id": "21514842-9fc5-4b40-9ac0-3c03790575a9",
   "metadata": {
    "tags": []
   },
   "source": [
    "# Python Data Classes and YAML"
   ]
  },
  {
   "cell_type": "markdown",
   "id": "cca5f2e6-c75c-4079-a5b7-11d910fbde0d",
   "metadata": {},
   "source": [
    "These are the course materials for the Python Data Classes and YAML presentation at the RMACC '23 Symposium.\n",
    "\n",
    "A common programming task is to read small amounts of data from files, or format and write that data back to files. These data could be program parameters or configuration values for example. You can spend a significant amount of time writing custom code to parse configuration files, pass these values around in your program, format and write them back to files. All of that code requires maintenance - the addition of a new parameter can entail changing multiple places in your code.\n",
    "\n",
    "A better solution is to leverage the **yaml** and **dataclasses** libraries to handle all of this for you."
   ]
  },
  {
   "cell_type": "markdown",
   "id": "7c50eab0-a99f-4972-b3e7-4aa22d10310d",
   "metadata": {
    "jp-MarkdownHeadingCollapsed": true,
    "tags": []
   },
   "source": [
    "## What is YAML?\n",
    "\n",
    "YAML is \"Yet Another Markup Language\" (or \"YAML Ain't Markup Language\"), a simple, human-readable format for data that is \"serialized\" (i.e. suitable for storage and transmission).\n",
    "\n",
    "https://en.wikipedia.org/wiki/YAML#History_and_name\n",
    "\n",
    "The python [yaml](https://pyyaml.org/) library (contained in the [PyYAML package](https://pypi.org/project/PyYAML/)) is easy to install, and provides the translation for our objects into YAML and back."
   ]
  },
  {
   "cell_type": "markdown",
   "id": "87566fad-6a29-442a-b481-8d9832665537",
   "metadata": {},
   "source": [
    "## What is a data class?\n",
    "\n",
    "A Data Class is a class that has been decorated with the **@dataclass** decorator, and that decoration provides nice \\_\\_init\\_\\_, \\_\\_repr\\_\\_, \\_\\_eq\\_\\_, and other useful \"dunder\" methods. Data classes were added to the Python Standard Library in version 3.7.\n",
    "\n",
    "Data classes were designed as a convenient way to hold related data values. They were *not* intended as a mechanism for rigorous data type and value validation (although we can do some validation).\n",
    "\n",
    "https://docs.python.org/3/library/dataclasses.html"
   ]
  },
  {
   "cell_type": "markdown",
   "id": "e1fe5f65-a6ab-4c6d-94fd-4af1661d8380",
   "metadata": {},
   "source": [
    "## What is decoration / what is a decorator?\n",
    "\n",
    "A decorator is a python function that enhances an object (e.g. a class or a function) with useful behavior **for free** that you don't need to write. Decorators use a convenient **@sign** syntax to simplify this. The @dataclass decorator is a good example.\n",
    "\n",
    "(Reference a good tutorial on decorators)"
   ]
  },
  {
   "cell_type": "markdown",
   "id": "3bf9609f-aacf-459a-8c2b-d82cfde9d6cb",
   "metadata": {
    "tags": []
   },
   "source": [
    "## More on data classes\n",
    "\n",
    "https://www.dataquest.io/blog/how-to-use-python-data-classes/\n",
    "\n",
    "https://peps.python.org/pep-0557/"
   ]
  },
  {
   "cell_type": "code",
   "execution_count": null,
   "id": "aa3fbb5b-aee4-4715-aa78-09352b618f02",
   "metadata": {},
   "outputs": [],
   "source": []
  }
 ],
 "metadata": {
  "kernelspec": {
   "display_name": "Python 3 (ipykernel)",
   "language": "python",
   "name": "python3"
  },
  "language_info": {
   "codemirror_mode": {
    "name": "ipython",
    "version": 3
   },
   "file_extension": ".py",
   "mimetype": "text/x-python",
   "name": "python",
   "nbconvert_exporter": "python",
   "pygments_lexer": "ipython3",
   "version": "3.9.7"
  }
 },
 "nbformat": 4,
 "nbformat_minor": 5
}
