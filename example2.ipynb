{
 "cells": [
  {
   "cell_type": "markdown",
   "id": "1988396f-95e0-42f1-b6ec-2dc3e1f6b84f",
   "metadata": {},
   "source": [
    "# Example 2 - Maintenance\n",
    "\n",
    "Lets add an \"elevation\" attribute to our City class to see how difficult this is to maintain."
   ]
  },
  {
   "cell_type": "code",
   "execution_count": null,
   "id": "9851f448-4bd8-4571-8ea0-7b23dfc82b46",
   "metadata": {},
   "outputs": [],
   "source": [
    "# example2.py - maintenance.\n",
    "from dataclasses import dataclass\n",
    "import yaml"
   ]
  },
  {
   "cell_type": "code",
   "execution_count": null,
   "id": "541b8287-92b0-444d-85da-3e83b1245382",
   "metadata": {},
   "outputs": [],
   "source": [
    "@dataclass \n",
    "class City:\n",
    "    name: str\n",
    "    latitude: float\n",
    "    longitude: float"
   ]
  },
  {
   "cell_type": "code",
   "execution_count": null,
   "id": "760b6449-29b7-4e11-8e45-76d1b11e19c8",
   "metadata": {},
   "outputs": [],
   "source": [
    "# Create a City and save it to a file.\n",
    "tempe = City( \"Tempe\", 33.40, -111.93 ),\n",
    "yaml.dump( tempe, open(\"tempe.yaml\",\"w\") )"
   ]
  },
  {
   "cell_type": "code",
   "execution_count": null,
   "id": "06842eaa-69c5-4170-9fc5-b4069d59f05c",
   "metadata": {},
   "outputs": [],
   "source": [
    "# Read the city back in and print it.\n",
    "copy_of_tempe = yaml.load( open(\"tempe.yaml\",\"r\"), Loader=yaml.Loader )\n",
    "print(\"Copy of Tempe object:\", copy_of_tempe)"
   ]
  },
  {
   "cell_type": "code",
   "execution_count": null,
   "id": "29af67a0-04ab-469c-8b23-09c8447bdc83",
   "metadata": {},
   "outputs": [],
   "source": []
  }
 ],
 "metadata": {
  "kernelspec": {
   "display_name": "Python 3 (ipykernel)",
   "language": "python",
   "name": "python3"
  },
  "language_info": {
   "codemirror_mode": {
    "name": "ipython",
    "version": 3
   },
   "file_extension": ".py",
   "mimetype": "text/x-python",
   "name": "python",
   "nbconvert_exporter": "python",
   "pygments_lexer": "ipython3",
   "version": "3.9.7"
  }
 },
 "nbformat": 4,
 "nbformat_minor": 5
}
