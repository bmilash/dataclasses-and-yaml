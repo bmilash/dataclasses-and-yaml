{
 "cells": [
  {
   "cell_type": "markdown",
   "id": "af9c3e27-23b6-42c8-9e58-4689ecedd50f",
   "metadata": {},
   "source": [
    "# Exercise\n",
    "1. Create an AddressBook class which contains a list of Contact objects. Feel free to use the Contact class from example 4 or write your own.\n",
    "2. Create an instance of the AddressBook class with a couple Contacts, dump it to a yaml file, read it back in, and print it."
   ]
  },
  {
   "cell_type": "code",
   "execution_count": null,
   "id": "05d49556-6481-4dc6-8532-358315a66695",
   "metadata": {},
   "outputs": [],
   "source": []
  }
 ],
 "metadata": {
  "kernelspec": {
   "display_name": "Python 3 (ipykernel)",
   "language": "python",
   "name": "python3"
  },
  "language_info": {
   "codemirror_mode": {
    "name": "ipython",
    "version": 3
   },
   "file_extension": ".py",
   "mimetype": "text/x-python",
   "name": "python",
   "nbconvert_exporter": "python",
   "pygments_lexer": "ipython3",
   "version": "3.9.7"
  }
 },
 "nbformat": 4,
 "nbformat_minor": 5
}
