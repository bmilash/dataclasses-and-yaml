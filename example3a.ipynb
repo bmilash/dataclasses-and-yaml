{
 "cells": [
  {
   "cell_type": "markdown",
   "id": "f7f112d8-4f22-4244-a461-052624279a2d",
   "metadata": {},
   "source": [
    "# Example 3 - List of data class objects\n",
    "\n",
    "Can YAML handle a list of objects from a data class?"
   ]
  },
  {
   "cell_type": "code",
   "execution_count": null,
   "id": "aee59fbe-817f-4989-807f-c1727c62ad50",
   "metadata": {
    "tags": []
   },
   "outputs": [],
   "source": [
    "import yaml\n",
    "import city"
   ]
  },
  {
   "cell_type": "code",
   "execution_count": null,
   "id": "1d691944-c313-47e9-9526-c1438e8d79e9",
   "metadata": {},
   "outputs": [],
   "source": [
    "# Create a list of cities.\n",
    "selected_rmacc_cities = [\n",
    "    city.City( \"Scottsdale\", 33.46, -111.92 ),\n",
    "    city.City( \"Las Cruces\", 32.30, -106.77 ),\n",
    "    city.City( \"Boulder\", 40.01, -105.25 ),\n",
    "    city.City( \"Salt Lake City\", 40.75, -111.88 ),\n",
    "]"
   ]
  },
  {
   "cell_type": "code",
   "execution_count": null,
   "id": "a8ddc4ba-e9ef-4549-8c35-50ba61283e12",
   "metadata": {},
   "outputs": [],
   "source": [
    "# Save the list to a YAML file.\n",
    "yaml.dump( selected_rmacc_cities, open(\"cities.yaml\",\"w\") )"
   ]
  },
  {
   "cell_type": "code",
   "execution_count": null,
   "id": "8c30a92a-ebf5-46e5-83ab-3e008f148e21",
   "metadata": {},
   "outputs": [],
   "source": []
  }
 ],
 "metadata": {
  "kernelspec": {
   "display_name": "Python 3 (ipykernel)",
   "language": "python",
   "name": "python3"
  },
  "language_info": {
   "codemirror_mode": {
    "name": "ipython",
    "version": 3
   },
   "file_extension": ".py",
   "mimetype": "text/x-python",
   "name": "python",
   "nbconvert_exporter": "python",
   "pygments_lexer": "ipython3",
   "version": "3.9.7"
  }
 },
 "nbformat": 4,
 "nbformat_minor": 5
}
