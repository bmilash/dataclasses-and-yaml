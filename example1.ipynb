{
 "cells": [
  {
   "cell_type": "markdown",
   "id": "de900601-c838-47b4-be4f-8b8ecd872245",
   "metadata": {
    "tags": []
   },
   "source": [
    "# Example 1 - Simple data class written to YAML file and read back in.\n",
    "\n",
    "Lets create a simple data class that holds the name, latitude, and longitude of a city. We begin by importing the dataclass decorator from the dataclasses library, and importing the yaml library."
   ]
  },
  {
   "cell_type": "code",
   "execution_count": null,
   "id": "10c3cd7d-1a85-48d8-9b12-80cf1d9f6fdf",
   "metadata": {},
   "outputs": [],
   "source": [
    "from dataclasses import dataclass\n",
    "import yaml"
   ]
  },
  {
   "cell_type": "markdown",
   "id": "344c4ddf-4bbe-4b12-970e-e4f9f616ea40",
   "metadata": {},
   "source": [
    "Declare the data class:"
   ]
  },
  {
   "cell_type": "code",
   "execution_count": null,
   "id": "561e8e43-81c4-492e-9d40-a2c503f0d5f7",
   "metadata": {},
   "outputs": [],
   "source": [
    "@dataclass \n",
    "class City:\n",
    "    name: str\n",
    "    latitude: float\n",
    "    longitude: float"
   ]
  },
  {
   "cell_type": "markdown",
   "id": "28636a95-d4ba-47f1-86fc-4d6ca6b1eef5",
   "metadata": {
    "tags": []
   },
   "source": [
    "Create an instance of that class. The arguments to the City() function can be positional (in the order in which they were listed in the class defintion) or named.\n",
    "\n",
    "```\n",
    "# These are equivalent:\n",
    "City(\"Tempe\", 33.40, -111.93)\n",
    "City(latitude=33.40, longitude=-111.93, name=\"Tempe\")\n",
    "```"
   ]
  },
  {
   "cell_type": "code",
   "execution_count": null,
   "id": "2059c51b-5d5d-4317-8d2d-de26efd43db6",
   "metadata": {},
   "outputs": [],
   "source": [
    "tempe = City(\"Tempe\", 33.40, -111.93 )\n",
    "tempe"
   ]
  },
  {
   "cell_type": "markdown",
   "id": "b4aac080-d9cc-4d34-88d0-f7b797707dc1",
   "metadata": {},
   "source": [
    "Open the YAML file and dump the object to the file."
   ]
  },
  {
   "cell_type": "code",
   "execution_count": null,
   "id": "604b0d16-e89a-4d76-9c12-5fd864b46fa3",
   "metadata": {},
   "outputs": [],
   "source": [
    "yaml.dump( tempe, open(\"tempe.yaml\",\"w\") )"
   ]
  },
  {
   "cell_type": "markdown",
   "id": "7edf03ff-ee79-4d40-9cc1-6c1c27a62c70",
   "metadata": {},
   "source": [
    "Read the object back in from the file."
   ]
  },
  {
   "cell_type": "code",
   "execution_count": null,
   "id": "b6317165-a16c-4323-a577-3ebe0226a646",
   "metadata": {},
   "outputs": [],
   "source": [
    "copy_of_tempe = yaml.load( open(\"tempe.yaml\",\"r\"), Loader=yaml.Loader )\n",
    "copy_of_tempe"
   ]
  },
  {
   "cell_type": "code",
   "execution_count": null,
   "id": "a6856aab-fa52-4c91-a6a6-1e19a261d3c0",
   "metadata": {},
   "outputs": [],
   "source": [
    "tempe == copy_of_tempe"
   ]
  },
  {
   "cell_type": "code",
   "execution_count": null,
   "id": "5dc2f969-7870-48e6-8848-d629bda55933",
   "metadata": {},
   "outputs": [],
   "source": [
    "tempe is copy_of_tempe"
   ]
  },
  {
   "cell_type": "code",
   "execution_count": null,
   "id": "4cc4a8fb-9344-4bee-83d6-76bd43cb7dd6",
   "metadata": {},
   "outputs": [],
   "source": [
    "print(id(tempe), id(copy_of_tempe))"
   ]
  }
 ],
 "metadata": {
  "kernelspec": {
   "display_name": "Python 3 (ipykernel)",
   "language": "python",
   "name": "python3"
  },
  "language_info": {
   "codemirror_mode": {
    "name": "ipython",
    "version": 3
   },
   "file_extension": ".py",
   "mimetype": "text/x-python",
   "name": "python",
   "nbconvert_exporter": "python",
   "pygments_lexer": "ipython3",
   "version": "3.9.7"
  }
 },
 "nbformat": 4,
 "nbformat_minor": 5
}
