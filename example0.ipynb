{
 "cells": [
  {
   "cell_type": "markdown",
   "id": "a046abac-3624-4f08-8975-ab6c0a3d5898",
   "metadata": {},
   "source": [
    "# Is the yaml library available?\n",
    "Test if the yaml library is available. It isn't part of the Python Standard Library, but is easy to install."
   ]
  },
  {
   "cell_type": "code",
   "execution_count": null,
   "id": "467271a5-d80c-4bfb-8547-ad1711fee25e",
   "metadata": {},
   "outputs": [],
   "source": [
    "import yaml"
   ]
  },
  {
   "cell_type": "markdown",
   "id": "6bb1fce3-97e3-4c6e-8de6-9ca188e94900",
   "metadata": {},
   "source": [
    "If that raised an ImportError exception, then the yaml library hasn't been installed. We can install it with pip:"
   ]
  },
  {
   "cell_type": "code",
   "execution_count": null,
   "id": "29b4bb5f-0732-4ca6-9dc0-ae5927dcf05f",
   "metadata": {},
   "outputs": [],
   "source": [
    "!pip install --user pyyaml"
   ]
  },
  {
   "cell_type": "markdown",
   "id": "014b2bab-4802-4711-a6fb-2b926959b002",
   "metadata": {},
   "source": [
    "pip's \"--user\" flag will install yaml under our .local directory.\n",
    "\n",
    "*If you are running this at mybinder.org then you must restart the kernel at this point, otherwise python will not find our newly-installed library.*\n",
    "\n",
    "Lets import yaml and see where it is:"
   ]
  },
  {
   "cell_type": "code",
   "execution_count": null,
   "id": "1f1ae64e-288e-4c7c-8314-73498f8418eb",
   "metadata": {},
   "outputs": [],
   "source": [
    "import yaml\n",
    "yaml.__file__"
   ]
  }
 ],
 "metadata": {
  "kernelspec": {
   "display_name": "Python 3 (ipykernel)",
   "language": "python",
   "name": "python3"
  },
  "language_info": {
   "codemirror_mode": {
    "name": "ipython",
    "version": 3
   },
   "file_extension": ".py",
   "mimetype": "text/x-python",
   "name": "python",
   "nbconvert_exporter": "python",
   "pygments_lexer": "ipython3",
   "version": "3.9.7"
  }
 },
 "nbformat": 4,
 "nbformat_minor": 5
}
