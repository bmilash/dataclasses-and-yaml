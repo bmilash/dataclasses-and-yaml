{
 "cells": [
  {
   "cell_type": "markdown",
   "id": "307a0723-648f-40e8-8fd3-61c603fb0198",
   "metadata": {},
   "source": [
    "# Example n - using more complex python data types\n",
    "In our data class we can use any python type, for example lists or dictionaries, and the \"typing\" module contains type hints to help us:"
   ]
  },
  {
   "cell_type": "code",
   "execution_count": 3,
   "id": "8ef3faca-87b1-488f-ac80-36c9ae8ef4cc",
   "metadata": {},
   "outputs": [],
   "source": [
    "from dataclasses import dataclass\n",
    "import typing"
   ]
  },
  {
   "cell_type": "code",
   "execution_count": 16,
   "id": "09463c93-8000-4855-9af0-3a3389542656",
   "metadata": {},
   "outputs": [],
   "source": [
    "@dataclass\n",
    "class ExampleObject:\n",
    "    dictionary_value: typing.Dict\n",
    "    list_value: typing.List\n",
    "    set_value: typing.Set\n",
    "    tuple_value: typing.Tuple"
   ]
  },
  {
   "cell_type": "code",
   "execution_count": 17,
   "id": "bd28ee8f-20db-416d-bd0f-28e598762ca6",
   "metadata": {},
   "outputs": [
    {
     "data": {
      "text/plain": [
       "ExampleObject(dictionary_value={}, list_value=[], set_value=set(), tuple_value=())"
      ]
     },
     "execution_count": 17,
     "metadata": {},
     "output_type": "execute_result"
    }
   ],
   "source": [
    "eo = ExampleObject( {}, [], set(), tuple() )\n",
    "eo"
   ]
  }
 ],
 "metadata": {
  "kernelspec": {
   "display_name": "Python 3 (ipykernel)",
   "language": "python",
   "name": "python3"
  },
  "language_info": {
   "codemirror_mode": {
    "name": "ipython",
    "version": 3
   },
   "file_extension": ".py",
   "mimetype": "text/x-python",
   "name": "python",
   "nbconvert_exporter": "python",
   "pygments_lexer": "ipython3",
   "version": "3.9.7"
  }
 },
 "nbformat": 4,
 "nbformat_minor": 5
}
