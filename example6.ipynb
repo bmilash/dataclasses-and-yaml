{
 "cells": [
  {
   "cell_type": "markdown",
   "id": "276f569d-4a09-409e-8233-4a6a94bd8b2c",
   "metadata": {},
   "source": [
    "# Example 6 - JSON instead of YAML\n",
    "\n",
    "JSON (JavaScript Object Notation) is a popular YAML alternative, particularly for communicating with web sites.\n",
    "\n",
    "The Python Standard Library json  isn't simple to use, but the jsonpickle library is:"
   ]
  },
  {
   "cell_type": "code",
   "execution_count": null,
   "id": "7367475a-0faa-456b-a3ed-783a4dac6bd7",
   "metadata": {},
   "outputs": [],
   "source": [
    "from dataclasses import dataclass\n",
    "import jsonpickle"
   ]
  },
  {
   "cell_type": "code",
   "execution_count": null,
   "id": "d2788aa9-cc82-4132-aba9-182454e2ddca",
   "metadata": {},
   "outputs": [],
   "source": [
    "@dataclass \n",
    "class City:\n",
    "    name: str\n",
    "    latitude: float\n",
    "    longitude: float"
   ]
  },
  {
   "cell_type": "code",
   "execution_count": null,
   "id": "09855417-328e-43e5-8453-a0408223ad02",
   "metadata": {},
   "outputs": [],
   "source": [
    "# Create a City and save it to a file.\n",
    "tempe = City( \"Tempe\", 33.40, -111.93 )\n",
    "with open('tempe.json','w') as ofs:\n",
    "    ofs.write(jsonpickle.encode(tempe))"
   ]
  },
  {
   "cell_type": "code",
   "execution_count": null,
   "id": "8c9ba3f3-4c02-44f1-af35-3b468321d1e8",
   "metadata": {},
   "outputs": [],
   "source": [
    "# Read the city back in and print it.\n",
    "with open('tempe.json') as ifs:\n",
    "    copy_of_tempe=jsonpickle.decode(ifs.read())\n",
    "copy_of_tempe"
   ]
  }
 ],
 "metadata": {
  "kernelspec": {
   "display_name": "Python 3 (ipykernel)",
   "language": "python",
   "name": "python3"
  },
  "language_info": {
   "codemirror_mode": {
    "name": "ipython",
    "version": 3
   },
   "file_extension": ".py",
   "mimetype": "text/x-python",
   "name": "python",
   "nbconvert_exporter": "python",
   "pygments_lexer": "ipython3",
   "version": "3.9.7"
  }
 },
 "nbformat": 4,
 "nbformat_minor": 5
}
