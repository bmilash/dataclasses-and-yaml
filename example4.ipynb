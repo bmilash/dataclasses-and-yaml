{
 "cells": [
  {
   "cell_type": "markdown",
   "id": "de4b678d-d564-4a8f-acf9-3f87ff823d5b",
   "metadata": {},
   "source": [
    "# Example 4 - Nested objects\n",
    "\n",
    "YAML can handle objects of a data class nested within other objects."
   ]
  },
  {
   "cell_type": "code",
   "execution_count": null,
   "id": "c19bcb6a-cccc-4fe4-b15e-70add7c21db5",
   "metadata": {},
   "outputs": [],
   "source": [
    "from dataclasses import dataclass\n",
    "import yaml"
   ]
  },
  {
   "cell_type": "code",
   "execution_count": null,
   "id": "89b9975b-326c-4685-9644-22deb7790238",
   "metadata": {},
   "outputs": [],
   "source": [
    "@dataclass\n",
    "class Contact:\n",
    "    name: str\n",
    "    address: str\n",
    "    city: str\n",
    "    state: str\n",
    "    zipcode: int\n",
    "\n",
    "@dataclass\n",
    "class Organization:\n",
    "    name: str\n",
    "    ceo: Contact"
   ]
  },
  {
   "cell_type": "code",
   "execution_count": null,
   "id": "f6e46d12-3ffe-455b-ad6f-a078f3a8eb9f",
   "metadata": {},
   "outputs": [],
   "source": [
    "# Create out data class object.\n",
    "yoyodyne = Organization( name=\"Yoyodyne Inc.\", \n",
    "    ceo = Contact(\"Brett Milash\", \"123 4th St.\", \"SLC\", \"UT\", 84103) )\n",
    "yoyodyne"
   ]
  },
  {
   "cell_type": "code",
   "execution_count": null,
   "id": "ce8b3305-92ea-4514-aa25-c0a06782db32",
   "metadata": {},
   "outputs": [],
   "source": [
    "# Save it.\n",
    "yaml.dump( yoyodyne, open(\"yoyo.yaml\",\"w\") )"
   ]
  },
  {
   "cell_type": "code",
   "execution_count": null,
   "id": "0ac849be-7c56-4f05-8623-8ced52e63aa9",
   "metadata": {},
   "outputs": [],
   "source": [
    "# Read it back in.\n",
    "copy_of_yoyo = yaml.load( open(\"yoyo.yaml\",\"r\"), Loader=yaml.Loader )\n",
    "copy_of_yoyo"
   ]
  },
  {
   "cell_type": "code",
   "execution_count": null,
   "id": "0a5d2ffc-8636-4604-85cb-e6d108fa3380",
   "metadata": {},
   "outputs": [],
   "source": []
  }
 ],
 "metadata": {
  "kernelspec": {
   "display_name": "Python 3 (ipykernel)",
   "language": "python",
   "name": "python3"
  },
  "language_info": {
   "codemirror_mode": {
    "name": "ipython",
    "version": 3
   },
   "file_extension": ".py",
   "mimetype": "text/x-python",
   "name": "python",
   "nbconvert_exporter": "python",
   "pygments_lexer": "ipython3",
   "version": "3.9.7"
  }
 },
 "nbformat": 4,
 "nbformat_minor": 5
}
