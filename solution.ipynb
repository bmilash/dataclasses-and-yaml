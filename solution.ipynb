{
 "cells": [
  {
   "cell_type": "markdown",
   "id": "e2c5a050-5254-43c0-93d8-b3169998c1f8",
   "metadata": {},
   "source": [
    "# Solution to the Exercise\n",
    "1. Create an AddressBook class which contains a list of Contact objects. Feel free to use the Contact class from example 4 or write your own.\n",
    "2. Create an instance of the AddressBook class with a couple Contacts, dump it to a yaml file, read it back in, and print it."
   ]
  },
  {
   "cell_type": "code",
   "execution_count": null,
   "id": "7db75c7c-46a9-41a1-8411-6a4af96df795",
   "metadata": {
    "tags": []
   },
   "outputs": [],
   "source": [
    "from dataclasses import dataclass\n",
    "import yaml\n",
    "import typing\n",
    "\n",
    "@dataclass\n",
    "class Contact:\n",
    "    name: str\n",
    "    phone: str\n",
    "    \n",
    "@dataclass \n",
    "class AddressBook:\n",
    "    contacts: typing.List"
   ]
  },
  {
   "cell_type": "code",
   "execution_count": null,
   "id": "2063319a-2a56-4eb8-9d3b-3bf3b90f7d55",
   "metadata": {
    "tags": []
   },
   "outputs": [],
   "source": [
    "# Initialize our address book. Since I didn't provide a default value for the contacts list\n",
    "# I need to give the AddressBook() function an argument, even if its an empty list:\n",
    "addr_book = AddressBook( [] )\n",
    "addr_book.contacts.append( Contact(\"Slackwater Pizza\",\"(801) 386-9777\") )\n",
    "addr_book.contacts.append( Contact(\"Settebello Pizza\",\"(801) 322-3556\") )\n",
    "addr_book"
   ]
  },
  {
   "cell_type": "code",
   "execution_count": null,
   "id": "6cc4c4e2-d0aa-4c23-b01b-dbc11fd5102a",
   "metadata": {
    "tags": []
   },
   "outputs": [],
   "source": [
    "# Dump the address book to a file.\n",
    "yaml.dump( addr_book, open(\"addresses.yaml\",\"w\"))"
   ]
  },
  {
   "cell_type": "code",
   "execution_count": null,
   "id": "3de8223d-8eac-4dd4-a3aa-de26c3eef27b",
   "metadata": {
    "tags": []
   },
   "outputs": [],
   "source": [
    "# Read the address book file and print the results.\n",
    "address_book_copy = yaml.load( open(\"addresses.yaml\",\"r\"), Loader=yaml.Loader)\n",
    "print(address_book_copy)"
   ]
  },
  {
   "cell_type": "code",
   "execution_count": null,
   "id": "3deb0eb1-11c1-48ba-816f-c72c3bfad0a0",
   "metadata": {},
   "outputs": [],
   "source": []
  }
 ],
 "metadata": {
  "kernelspec": {
   "display_name": "Python 3 (ipykernel)",
   "language": "python",
   "name": "python3"
  },
  "language_info": {
   "codemirror_mode": {
    "name": "ipython",
    "version": 3
   },
   "file_extension": ".py",
   "mimetype": "text/x-python",
   "name": "python",
   "nbconvert_exporter": "python",
   "pygments_lexer": "ipython3",
   "version": "3.9.7"
  }
 },
 "nbformat": 4,
 "nbformat_minor": 5
}
